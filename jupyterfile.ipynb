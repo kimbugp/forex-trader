{
 "cells": [
  {
   "cell_type": "code",
   "execution_count": 1,
   "metadata": {},
   "outputs": [
    {
     "data": {
      "text/plain": [
       "<module 'plotly' from '/anaconda3/envs/forex-trader/lib/python3.7/site-packages/plotly/__init__.py'>"
      ]
     },
     "execution_count": 1,
     "metadata": {},
     "output_type": "execute_result"
    }
   ],
   "source": [
    "import numpy as np\n",
    "import pandas as pd\n",
    "import plotly as plt\n",
    "import plotly.graph_objs as go\n",
    "\n",
    "from data_retrieve import QUANDLDATA\n",
    "\n",
    "\n",
    "class Plot(object):\n",
    "    data = []\n",
    "\n",
    "    def __clean_data(self, request):\n",
    "        data = request.get(\"dataset_data\").get(\"data\")\n",
    "        headers = request.get(\"dataset_data\").get(\"column_names\")\n",
    "        clean_data = pd.DataFrame(data, None, list(\n",
    "            map(lambda x: x.lower(), headers)))\n",
    "        clean_data.date = pd.to_datetime(clean_data.date, format=\"%Y-%M-%d\")\n",
    "        return clean_data\n",
    "\n",
    "    def plot(self):\n",
    "        q = QUANDLDATA()\n",
    "        data = q.get_data('2015-05-24', '2015-05-28')\n",
    "        clean_data = self.__clean_data(data)\n",
    "        trace = go.Ohlc(x=clean_data.date, open=clean_data.open,\n",
    "                        close=clean_data.close, high=clean_data.high,\n",
    "                        low=clean_data.low, name=\"Currencies\")\n",
    "        data = [trace]\n",
    "        plt.offline.plot(data, filename=\"text.html\")\n",
    "        return plt\n",
    "graph = Plot()\n",
    "graph.plot()\n"
   ]
  }
 ],
 "metadata": {
  "file_extension": ".py",
  "kernelspec": {
   "display_name": "Python 3",
   "language": "python",
   "name": "python3"
  },
  "language_info": {
   "codemirror_mode": {
    "name": "ipython",
    "version": 3
   },
   "file_extension": ".py",
   "mimetype": "text/x-python",
   "name": "python",
   "nbconvert_exporter": "python",
   "pygments_lexer": "ipython3",
   "version": "3.7.1"
  },
  "mimetype": "text/x-python",
  "name": "python",
  "npconvert_exporter": "python",
  "pygments_lexer": "ipython3",
  "version": 3
 },
 "nbformat": 4,
 "nbformat_minor": 2
}
